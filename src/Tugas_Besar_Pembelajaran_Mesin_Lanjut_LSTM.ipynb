{
  "nbformat": 4,
  "nbformat_minor": 0,
  "metadata": {
    "colab": {
      "provenance": []
    },
    "kernelspec": {
      "name": "python3",
      "display_name": "Python 3"
    },
    "language_info": {
      "name": "python"
    }
  },
  "cells": [
    {
      "cell_type": "markdown",
      "source": [
        "# Tugas Besar Pembelajaran Mesin Lanjut LSTM\n",
        "Oleh :\n",
        "\n",
        "- M Rafli Zamzami (13519067)\n",
        "- Aria Bachrul U.B (13519115)\n",
        "- Safiq Faray (13519145)"
      ],
      "metadata": {
        "id": "TcJu7_hfpNdJ"
      }
    },
    {
      "cell_type": "code",
      "execution_count": 1,
      "metadata": {
        "colab": {
          "base_uri": "https://localhost:8080/"
        },
        "id": "MTc6bnVemw2h",
        "outputId": "ec582320-a4bf-4b19-af17-2e246ce4955f"
      },
      "outputs": [
        {
          "output_type": "stream",
          "name": "stdout",
          "text": [
            "/content\n",
            "Pulling code...\n",
            "/content/tubes-cnn-lstm\n",
            "From https://github.com/Haruray/tubes-cnn-lstm\n",
            " * branch            HEAD       -> FETCH_HEAD\n",
            "Already up to date.\n",
            "/content/tubes-cnn-lstm/src\n"
          ]
        }
      ],
      "source": [
        "import os\n",
        "import io\n",
        "%cd /content/\n",
        "if not os.path.isdir(\"/content/tubes-cnn-lstm/\"):\n",
        "  print(\"Cloning our source code...\")\n",
        "  !git clone https://github.com/Haruray/tubes-cnn-lstm\n",
        "  %cd /content/tubes-cnn-lstm/\n",
        "print(\"Pulling code...\")\n",
        "%cd /content/tubes-cnn-lstm/\n",
        "!git pull https://github.com/Haruray/tubes-cnn-lstm\n",
        "%cd /content/tubes-cnn-lstm/src"
      ]
    },
    {
      "cell_type": "code",
      "source": [
        "import pandas as pd\n",
        "import numpy as np\n",
        "from neuralnet import NN, ConvLayer\n",
        "from neuralnet import Pooling\n",
        "from neuralnet import Flatten\n",
        "from neuralnet import Dense\n",
        "from neuralnet import load_model\n",
        "from neuralnet import Trainer\n",
        "from neuralnet import Preprocess\n",
        "from neuralnet import LSTM"
      ],
      "metadata": {
        "id": "M6eVkx7Tmxue"
      },
      "execution_count": 2,
      "outputs": []
    },
    {
      "cell_type": "code",
      "source": [
        "df = pd.read_csv(\"../data/lstm/Train_stock_market.csv\")\n",
        "data = np.array(df[[\"Low\", \"Open\", \"Volume\", \"High\", \"Close\", \"Adjusted Close\"]])"
      ],
      "metadata": {
        "id": "nCj5BDl1odd6"
      },
      "execution_count": 3,
      "outputs": []
    },
    {
      "cell_type": "code",
      "source": [
        "def create_sequences(data, seq_length):\n",
        "    sequences = []\n",
        "    targets = []\n",
        "    data_len = len(data)\n",
        "    for i in range(data_len - seq_length):\n",
        "        seq_end = i + seq_length\n",
        "        seq_x = data[i:seq_end]\n",
        "        seq_y = data[seq_end]\n",
        "        sequences.append(seq_x)\n",
        "        targets.append(seq_y)\n",
        "    return np.array(sequences), np.array(targets)"
      ],
      "metadata": {
        "id": "_CUTG8bnojPp"
      },
      "execution_count": 4,
      "outputs": []
    },
    {
      "cell_type": "code",
      "source": [
        "timestep = 10\n",
        "lstm_cells = 15"
      ],
      "metadata": {
        "id": "xUst2LCcojy5"
      },
      "execution_count": 5,
      "outputs": []
    },
    {
      "cell_type": "code",
      "source": [
        "X_train, y_train = create_sequences(data, timestep)\n",
        "X_train"
      ],
      "metadata": {
        "colab": {
          "base_uri": "https://localhost:8080/"
        },
        "id": "ZGL_fyk9olam",
        "outputId": "c1d419d8-3e5e-43b4-e00f-18101e56d262"
      },
      "execution_count": 6,
      "outputs": [
        {
          "output_type": "execute_result",
          "data": {
            "text/plain": [
              "array([[[5.25000000e+00, 5.50000000e+00, 7.90000000e+03, 5.50000000e+00,\n",
              "         5.25000000e+00, 5.25000000e+00],\n",
              "        [5.25000000e+00, 5.25000000e+00, 6.00000000e+02, 5.50000000e+00,\n",
              "         5.25000000e+00, 5.25000000e+00],\n",
              "        [5.25000000e+00, 5.25000000e+00, 3.50000000e+03, 5.50000000e+00,\n",
              "         5.25000000e+00, 5.25000000e+00],\n",
              "        ...,\n",
              "        [4.75000000e+00, 4.75000000e+00, 5.60000000e+03, 5.00000000e+00,\n",
              "         4.75000000e+00, 4.75000000e+00],\n",
              "        [5.00000000e+00, 5.00000000e+00, 3.00000000e+02, 5.00000000e+00,\n",
              "         5.00000000e+00, 5.00000000e+00],\n",
              "        [5.25000000e+00, 5.25000000e+00, 1.37000000e+04, 5.25000000e+00,\n",
              "         5.25000000e+00, 5.25000000e+00]],\n",
              "\n",
              "       [[5.25000000e+00, 5.25000000e+00, 6.00000000e+02, 5.50000000e+00,\n",
              "         5.25000000e+00, 5.25000000e+00],\n",
              "        [5.25000000e+00, 5.25000000e+00, 3.50000000e+03, 5.50000000e+00,\n",
              "         5.25000000e+00, 5.25000000e+00],\n",
              "        [5.50000000e+00, 5.50000000e+00, 7.00000000e+02, 5.50000000e+00,\n",
              "         5.50000000e+00, 5.50000000e+00],\n",
              "        ...,\n",
              "        [5.00000000e+00, 5.00000000e+00, 3.00000000e+02, 5.00000000e+00,\n",
              "         5.00000000e+00, 5.00000000e+00],\n",
              "        [5.25000000e+00, 5.25000000e+00, 1.37000000e+04, 5.25000000e+00,\n",
              "         5.25000000e+00, 5.25000000e+00],\n",
              "        [5.25000000e+00, 5.25000000e+00, 3.60000000e+03, 5.50000000e+00,\n",
              "         5.50000000e+00, 5.50000000e+00]],\n",
              "\n",
              "       [[5.25000000e+00, 5.25000000e+00, 3.50000000e+03, 5.50000000e+00,\n",
              "         5.25000000e+00, 5.25000000e+00],\n",
              "        [5.50000000e+00, 5.50000000e+00, 7.00000000e+02, 5.50000000e+00,\n",
              "         5.50000000e+00, 5.50000000e+00],\n",
              "        [5.00000000e+00, 5.50000000e+00, 1.70000000e+03, 5.50000000e+00,\n",
              "         5.00000000e+00, 5.00000000e+00],\n",
              "        ...,\n",
              "        [5.25000000e+00, 5.25000000e+00, 1.37000000e+04, 5.25000000e+00,\n",
              "         5.25000000e+00, 5.25000000e+00],\n",
              "        [5.25000000e+00, 5.25000000e+00, 3.60000000e+03, 5.50000000e+00,\n",
              "         5.50000000e+00, 5.50000000e+00],\n",
              "        [5.75000000e+00, 5.75000000e+00, 1.55000000e+04, 6.00000000e+00,\n",
              "         5.75000000e+00, 5.75000000e+00]],\n",
              "\n",
              "       ...,\n",
              "\n",
              "       [[3.82999992e+00, 4.05000019e+00, 2.31000000e+04, 4.09999990e+00,\n",
              "         4.07000017e+00, 4.07000017e+00],\n",
              "        [4.01999998e+00, 4.05999994e+00, 2.11000000e+04, 4.17000008e+00,\n",
              "         4.17000008e+00, 4.17000008e+00],\n",
              "        [3.97000003e+00, 4.15000010e+00, 1.49000000e+04, 4.15000010e+00,\n",
              "         4.00000000e+00, 4.00000000e+00],\n",
              "        ...,\n",
              "        [3.75000000e+00, 3.81999993e+00, 1.90000000e+04, 3.93000007e+00,\n",
              "         3.80999994e+00, 3.80999994e+00],\n",
              "        [3.75999999e+00, 3.79999995e+00, 2.24000000e+04, 3.99000001e+00,\n",
              "         3.80999994e+00, 3.80999994e+00],\n",
              "        [3.68000007e+00, 3.75000000e+00, 1.80000000e+04, 3.84999990e+00,\n",
              "         3.74000001e+00, 3.74000001e+00]],\n",
              "\n",
              "       [[4.01999998e+00, 4.05999994e+00, 2.11000000e+04, 4.17000008e+00,\n",
              "         4.17000008e+00, 4.17000008e+00],\n",
              "        [3.97000003e+00, 4.15000010e+00, 1.49000000e+04, 4.15000010e+00,\n",
              "         4.00000000e+00, 4.00000000e+00],\n",
              "        [3.63000011e+00, 3.92000008e+00, 1.86000000e+04, 3.99000001e+00,\n",
              "         3.63000011e+00, 3.63000011e+00],\n",
              "        ...,\n",
              "        [3.75999999e+00, 3.79999995e+00, 2.24000000e+04, 3.99000001e+00,\n",
              "         3.80999994e+00, 3.80999994e+00],\n",
              "        [3.68000007e+00, 3.75000000e+00, 1.80000000e+04, 3.84999990e+00,\n",
              "         3.74000001e+00, 3.74000001e+00],\n",
              "        [3.79999995e+00, 3.81999993e+00, 5.16000000e+04, 4.00000000e+00,\n",
              "         3.84999990e+00, 3.84999990e+00]],\n",
              "\n",
              "       [[3.97000003e+00, 4.15000010e+00, 1.49000000e+04, 4.15000010e+00,\n",
              "         4.00000000e+00, 4.00000000e+00],\n",
              "        [3.63000011e+00, 3.92000008e+00, 1.86000000e+04, 3.99000001e+00,\n",
              "         3.63000011e+00, 3.63000011e+00],\n",
              "        [3.38000011e+00, 3.50999999e+00, 4.14000000e+04, 3.60999990e+00,\n",
              "         3.48000002e+00, 3.48000002e+00],\n",
              "        ...,\n",
              "        [3.68000007e+00, 3.75000000e+00, 1.80000000e+04, 3.84999990e+00,\n",
              "         3.74000001e+00, 3.74000001e+00],\n",
              "        [3.79999995e+00, 3.81999993e+00, 5.16000000e+04, 4.00000000e+00,\n",
              "         3.84999990e+00, 3.84999990e+00],\n",
              "        [3.84999990e+00, 3.93000007e+00, 7.80000000e+03, 3.93000007e+00,\n",
              "         3.88000011e+00, 3.88000011e+00]]])"
            ]
          },
          "metadata": {},
          "execution_count": 6
        }
      ]
    },
    {
      "cell_type": "code",
      "source": [
        "model_lstm = NN(X_train.shape)\n",
        "model_lstm.add(LSTM(X_train.shape[2], lstm_cells))\n",
        "input_shape = model_lstm.layers[0].feature_map_shape\n",
        "model_lstm.add(Dense(6, input_shape, \"relu\"))\n",
        "model_lstm.save_model(\"lstm.json\", 4)"
      ],
      "metadata": {
        "id": "qnjqWisOomib"
      },
      "execution_count": 7,
      "outputs": []
    },
    {
      "cell_type": "code",
      "source": [
        "model_lstm.forward_propagate(X_train[0])"
      ],
      "metadata": {
        "colab": {
          "base_uri": "https://localhost:8080/"
        },
        "id": "SOMAmli2ovD0",
        "outputId": "587dc3a5-d413-4b6b-8b57-71bb3fc618cb"
      },
      "execution_count": 8,
      "outputs": [
        {
          "output_type": "stream",
          "name": "stderr",
          "text": [
            "/content/tubes-cnn-lstm/src/neuralnet/Activation.py:48: RuntimeWarning: overflow encountered in exp\n",
            "  return 1 / (1 + np.exp(-input))\n"
          ]
        },
        {
          "output_type": "execute_result",
          "data": {
            "text/plain": [
              "array([1.5305447 , 1.2915176 , 0.58041712, 4.30043584, 0.        ,\n",
              "       0.98221718])"
            ]
          },
          "metadata": {},
          "execution_count": 8
        }
      ]
    }
  ]
}