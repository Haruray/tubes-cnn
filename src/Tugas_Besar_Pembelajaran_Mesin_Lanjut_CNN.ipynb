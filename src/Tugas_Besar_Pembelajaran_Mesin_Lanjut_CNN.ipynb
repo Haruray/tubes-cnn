{
  "cells": [
    {
      "cell_type": "markdown",
      "source": [
        "# Tugas Besar Pembelajaran Mesin Lanjut CNN\n",
        "Oleh :\n",
        "\n",
        "- M Rafli Zamzami (13519067)\n",
        "- Aria Bachrul U.B (13519115)\n",
        "- Safiq Faray (13519145)"
      ],
      "metadata": {
        "id": "j42ynLaHmDZa"
      }
    },
    {
      "cell_type": "code",
      "source": [
        "! pip install opencv-contrib-python"
      ],
      "metadata": {
        "colab": {
          "base_uri": "https://localhost:8080/"
        },
        "id": "z-ZSNe5kkimu",
        "outputId": "967fd014-063c-4011-8ab8-1fbde9e77f2f"
      },
      "execution_count": 1,
      "outputs": [
        {
          "output_type": "stream",
          "name": "stdout",
          "text": [
            "Requirement already satisfied: opencv-contrib-python in /usr/local/lib/python3.10/dist-packages (4.8.0.76)\n",
            "Requirement already satisfied: numpy>=1.21.2 in /usr/local/lib/python3.10/dist-packages (from opencv-contrib-python) (1.23.5)\n"
          ]
        }
      ]
    },
    {
      "cell_type": "markdown",
      "source": [
        "## Setup"
      ],
      "metadata": {
        "id": "4pjjOf2umVKO"
      }
    },
    {
      "cell_type": "code",
      "source": [
        "import os\n",
        "import io\n",
        "%cd /content/\n",
        "if not os.path.isdir(\"/content/tubes-cnn-lstm/\"):\n",
        "  print(\"Cloning our source code...\")\n",
        "  !git clone https://github.com/Haruray/tubes-cnn-lstm\n",
        "  %cd /content/tubes-cnn-lstm/\n",
        "print(\"Pulling code...\")\n",
        "%cd /content/tubes-cnn-lstm/\n",
        "!git pull https://github.com/Haruray/tubes-cnn-lstm\n",
        "%cd /content/tubes-cnn-lstm/src"
      ],
      "metadata": {
        "colab": {
          "base_uri": "https://localhost:8080/"
        },
        "id": "PDc7lIbSkh7D",
        "outputId": "cb2432dc-5d54-47a6-8cc5-3d9f54f3f68f"
      },
      "execution_count": 20,
      "outputs": [
        {
          "output_type": "stream",
          "name": "stdout",
          "text": [
            "/content\n",
            "Pulling code...\n",
            "/content/tubes-cnn-lstm\n",
            "From https://github.com/Haruray/tubes-cnn-lstm\n",
            " * branch            HEAD       -> FETCH_HEAD\n",
            "Already up to date.\n",
            "/content/tubes-cnn-lstm/src\n"
          ]
        }
      ]
    },
    {
      "cell_type": "code",
      "execution_count": 22,
      "metadata": {
        "id": "eXg6SnlTkgBm"
      },
      "outputs": [],
      "source": [
        "import cv2\n",
        "import pandas as pd\n",
        "import numpy as np\n",
        "from neuralnet import NN, ConvLayer\n",
        "from neuralnet import Pooling\n",
        "from neuralnet import Flatten\n",
        "from neuralnet import Dense\n",
        "from neuralnet import load_model\n",
        "from neuralnet import Trainer\n",
        "from neuralnet import Preprocess\n",
        "from neuralnet import LSTM"
      ]
    },
    {
      "cell_type": "markdown",
      "source": [
        "## Model building"
      ],
      "metadata": {
        "id": "4J0kHJJXmX6d"
      }
    },
    {
      "cell_type": "code",
      "execution_count": 16,
      "metadata": {
        "id": "LkdsoCppkgBp"
      },
      "outputs": [],
      "source": [
        "image = cv2.imread(\"251.jpeg\")\n",
        "model = NN(image.shape)\n",
        "model.add(\n",
        "    ConvLayer(\n",
        "        input_shape=image.shape,\n",
        "        padding=0,\n",
        "        num_filters=1,\n",
        "        filter_size=(3, 3),\n",
        "        stride=1,\n",
        "        detector_function=\"relu\",\n",
        "    )\n",
        ")\n",
        "model.add(Pooling(mode=\"max\", pool_size=(2, 2), stride=2))\n",
        "model.add(Flatten())\n",
        "\n",
        "flat_shape = model.layers[2].feature_map_shape\n",
        "model.add(Dense(8, flat_shape, \"relu\"))\n",
        "\n",
        "model.add(Dense(1, 8, \"sigmoid\"))\n",
        "model.save_model(\"base.json\", 4)"
      ]
    },
    {
      "cell_type": "markdown",
      "source": [
        "## Data Preprocess"
      ],
      "metadata": {
        "id": "PBcUN0zlmcmG"
      }
    },
    {
      "cell_type": "code",
      "execution_count": 17,
      "metadata": {
        "colab": {
          "base_uri": "https://localhost:8080/"
        },
        "id": "bcyLu0hEkgBq",
        "outputId": "81d7a034-bd1c-4c89-d534-cc924e2ba9d8"
      },
      "outputs": [
        {
          "output_type": "stream",
          "name": "stdout",
          "text": [
            "(90, 256, 256, 3)\n",
            "(10, 256, 256, 3)\n"
          ]
        }
      ],
      "source": [
        "data_preprocess = Preprocess(\"../data/cnn\", False)\n",
        "train, test = data_preprocess.get_data_split(split=(0.9,0.1), max_data_len=100)\n",
        "\n",
        "print(train.get_images().shape)\n",
        "print(test.get_images().shape)"
      ]
    },
    {
      "cell_type": "markdown",
      "source": [
        "## Training"
      ],
      "metadata": {
        "id": "WRVoG6eomeEc"
      }
    },
    {
      "cell_type": "code",
      "execution_count": null,
      "metadata": {
        "id": "FOanSDCqkgBr",
        "outputId": "44cffef5-3ac4-4a94-d023-e3c14e3ae791"
      },
      "outputs": [
        {
          "name": "stdout",
          "output_type": "stream",
          "text": [
            "Training model...\n",
            "Epoch 1/1\n"
          ]
        },
        {
          "name": "stderr",
          "output_type": "stream",
          "text": [
            "c:\\DATA\\Smt9\\mll\\tubes-cnn\\src\\neuralnet\\Activation.py:49: RuntimeWarning: overflow encountered in exp\n",
            "  return 1 / (1 + np.exp(-input))\n"
          ]
        },
        {
          "name": "stdout",
          "output_type": "stream",
          "text": [
            "Confusion Matrix:\n",
            "[[ 0 42]\n",
            " [ 0 48]]\n",
            "Accuracy: 53.33%\n",
            "Average Precision: 26.67%\n",
            "Average Recall: 50.00%\n",
            "Average F1 Score: 34.78%\n",
            "Training finished. Saving model...\n"
          ]
        }
      ],
      "source": [
        "trainer = Trainer(\n",
        "    model,\n",
        "    1,\n",
        "    0.1,\n",
        "    train.get_images(),\n",
        "    train.get_labels(),\n",
        "    test_input=test.get_images(),\n",
        "    test_label=test.get_labels(),\n",
        ")\n",
        "trainer.fit(save=True)"
      ]
    },
    {
      "cell_type": "markdown",
      "source": [
        "## Inference Examples"
      ],
      "metadata": {
        "id": "9FqcgIDDmflp"
      }
    },
    {
      "cell_type": "code",
      "execution_count": null,
      "metadata": {
        "id": "GbwP46QHkgBr",
        "outputId": "96e4841b-ce20-4b3a-8995-1930577bc55e"
      },
      "outputs": [
        {
          "name": "stdout",
          "output_type": "stream",
          "text": [
            "Predicted:  panda Actual:  panda\n",
            "Predicted:  panda Actual:  panda\n",
            "Predicted:  panda Actual:  panda\n",
            "Predicted:  panda Actual:  panda\n",
            "Predicted:  panda Actual:  bear\n",
            "Predicted:  panda Actual:  bear\n",
            "Predicted:  panda Actual:  panda\n",
            "Predicted:  panda Actual:  bear\n",
            "Predicted:  panda Actual:  bear\n",
            "Predicted:  panda Actual:  bear\n"
          ]
        }
      ],
      "source": [
        "# take 10 data from test set and predict\n",
        "test_images = test.get_images()[:10]\n",
        "test_labels = test.get_labels()[:10]\n",
        "pred = model.predict(test_images)\n",
        "id2label = {0:\"bear\" , 1 :\"panda\"}\n",
        "\n",
        "for i in range(len(pred)):\n",
        "    print(\"Predicted: \", id2label[pred[i]], \"Actual: \", id2label[test_labels[i][0]])"
      ]
    }
  ],
  "metadata": {
    "kernelspec": {
      "display_name": "Python 3",
      "language": "python",
      "name": "python3"
    },
    "language_info": {
      "codemirror_mode": {
        "name": "ipython",
        "version": 3
      },
      "file_extension": ".py",
      "mimetype": "text/x-python",
      "name": "python",
      "nbconvert_exporter": "python",
      "pygments_lexer": "ipython3",
      "version": "3.8.0"
    },
    "colab": {
      "provenance": []
    }
  },
  "nbformat": 4,
  "nbformat_minor": 0
}