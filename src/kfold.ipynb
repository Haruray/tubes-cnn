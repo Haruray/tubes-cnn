{
 "cells": [
  {
   "cell_type": "code",
   "execution_count": 1,
   "metadata": {},
   "outputs": [],
   "source": [
    "import cv2\n",
    "from neuralnet import NN, ConvLayer\n",
    "from neuralnet import Pooling\n",
    "from neuralnet import Flatten\n",
    "from neuralnet import Dense\n",
    "from neuralnet import load_model\n",
    "import numpy as np\n",
    "from neuralnet import Trainer\n",
    "from neuralnet import Preprocess\n",
    "from neuralnet import ImageDataset"
   ]
  },
  {
   "cell_type": "code",
   "execution_count": 2,
   "metadata": {},
   "outputs": [],
   "source": [
    "newModel = load_model(\"base.json\")"
   ]
  },
  {
   "cell_type": "code",
   "execution_count": 3,
   "metadata": {},
   "outputs": [],
   "source": [
    "data_preprocess = Preprocess(\"../data\", True)\n",
    "data_kfold = data_preprocess.get_data_kfold(max_data_len=100)"
   ]
  },
  {
   "cell_type": "code",
   "execution_count": 4,
   "metadata": {},
   "outputs": [
    {
     "name": "stdout",
     "output_type": "stream",
     "text": [
      "Fold 1\n",
      "Training model...\n",
      "Epoch 1/1\n"
     ]
    },
    {
     "name": "stderr",
     "output_type": "stream",
     "text": [
      "c:\\DATA\\Smt9\\mll\\tubes-cnn\\src\\neuralnet\\Activation.py:49: RuntimeWarning: overflow encountered in exp\n",
      "  return 1 / (1 + np.exp(-input))\n"
     ]
    },
    {
     "name": "stdout",
     "output_type": "stream",
     "text": [
      "Confusion Matrix:\n",
      "[[90  0]\n",
      " [ 0  0]]\n",
      "Accuracy: 100.00%\n",
      "Average Precision: 50.00%\n",
      "Average Recall: 50.00%\n",
      "Average F1 Score: 50.00%\n",
      "Training finished.\n",
      "\n",
      "Fold 2\n",
      "Training model...\n",
      "Epoch 1/1\n",
      "Confusion Matrix:\n",
      "[[90  0]\n",
      " [ 0  0]]\n",
      "Accuracy: 100.00%\n",
      "Average Precision: 50.00%\n",
      "Average Recall: 50.00%\n",
      "Average F1 Score: 50.00%\n",
      "Training finished.\n",
      "\n",
      "Fold 3\n",
      "Training model...\n",
      "Epoch 1/1\n",
      "Confusion Matrix:\n",
      "[[90  0]\n",
      " [ 0  0]]\n",
      "Accuracy: 100.00%\n",
      "Average Precision: 50.00%\n",
      "Average Recall: 50.00%\n",
      "Average F1 Score: 50.00%\n",
      "Training finished.\n",
      "\n",
      "Fold 4\n",
      "Training model...\n",
      "Epoch 1/1\n",
      "Confusion Matrix:\n",
      "[[90  0]\n",
      " [ 0  0]]\n",
      "Accuracy: 100.00%\n",
      "Average Precision: 50.00%\n",
      "Average Recall: 50.00%\n",
      "Average F1 Score: 50.00%\n",
      "Training finished.\n",
      "\n",
      "Fold 5\n",
      "Training model...\n",
      "Epoch 1/1\n",
      "Confusion Matrix:\n",
      "[[90  0]\n",
      " [ 0  0]]\n",
      "Accuracy: 100.00%\n",
      "Average Precision: 50.00%\n",
      "Average Recall: 50.00%\n",
      "Average F1 Score: 50.00%\n",
      "Training finished.\n",
      "\n",
      "Fold 6\n",
      "Training model...\n",
      "Epoch 1/1\n",
      "Confusion Matrix:\n",
      "[[90  0]\n",
      " [ 0  0]]\n",
      "Accuracy: 100.00%\n",
      "Average Precision: 50.00%\n",
      "Average Recall: 50.00%\n",
      "Average F1 Score: 50.00%\n",
      "Training finished.\n",
      "\n",
      "Fold 7\n",
      "Training model...\n",
      "Epoch 1/1\n",
      "Confusion Matrix:\n",
      "[[90  0]\n",
      " [ 0  0]]\n",
      "Accuracy: 100.00%\n",
      "Average Precision: 50.00%\n",
      "Average Recall: 50.00%\n",
      "Average F1 Score: 50.00%\n",
      "Training finished.\n",
      "\n",
      "Fold 8\n",
      "Training model...\n",
      "Epoch 1/1\n",
      "Confusion Matrix:\n",
      "[[90  0]\n",
      " [ 0  0]]\n",
      "Accuracy: 100.00%\n",
      "Average Precision: 50.00%\n",
      "Average Recall: 50.00%\n",
      "Average F1 Score: 50.00%\n",
      "Training finished.\n",
      "\n",
      "Fold 9\n",
      "Training model...\n",
      "Epoch 1/1\n",
      "Confusion Matrix:\n",
      "[[90  0]\n",
      " [ 0  0]]\n",
      "Accuracy: 100.00%\n",
      "Average Precision: 50.00%\n",
      "Average Recall: 50.00%\n",
      "Average F1 Score: 50.00%\n",
      "Training finished.\n",
      "\n",
      "Fold 10\n",
      "Training model...\n",
      "Epoch 1/1\n",
      "Confusion Matrix:\n",
      "[[90  0]\n",
      " [ 0  0]]\n",
      "Accuracy: 100.00%\n",
      "Average Precision: 50.00%\n",
      "Average Recall: 50.00%\n",
      "Average F1 Score: 50.00%\n",
      "Training finished.\n",
      "\n"
     ]
    }
   ],
   "source": [
    "def combine_datasets(datasets:list):\n",
    "    combined = ImageDataset([])\n",
    "    for dataset in datasets:\n",
    "        combined.data += dataset.data\n",
    "    return combined\n",
    "\n",
    "evaluations = []\n",
    "for i in range(len(data_kfold)):\n",
    "    print(\"Fold\", i+1)\n",
    "    exclusion = [data for j, data in enumerate(data_kfold) if j != i]\n",
    "    train_data = combine_datasets(exclusion)\n",
    "    test_data = data_kfold[i]\n",
    "    trainer = Trainer(\n",
    "        newModel,\n",
    "        1,\n",
    "        0.1,\n",
    "        train_data.get_images(),\n",
    "        train_data.get_labels(),\n",
    "        test_input=test_data.get_images(),\n",
    "        test_label=test_data.get_labels(),\n",
    "    )\n",
    "    eval = trainer.fit(save=False)\n",
    "    print()\n",
    "    evaluations.append(eval)\n"
   ]
  },
  {
   "cell_type": "code",
   "execution_count": 8,
   "metadata": {},
   "outputs": [
    {
     "name": "stdout",
     "output_type": "stream",
     "text": [
      "Accuracy: 100.00%\n",
      "Accuracy: 100.00%\n",
      "Accuracy: 100.00%\n",
      "Accuracy: 100.00%\n",
      "Accuracy: 100.00%\n",
      "Accuracy: 100.00%\n",
      "Accuracy: 100.00%\n",
      "Accuracy: 100.00%\n",
      "Accuracy: 100.00%\n",
      "Accuracy: 100.00%\n",
      "Average Precision: 50.00%\n",
      "Average Precision: 50.00%\n",
      "Average Precision: 50.00%\n",
      "Average Precision: 50.00%\n",
      "Average Precision: 50.00%\n",
      "Average Precision: 50.00%\n",
      "Average Precision: 50.00%\n",
      "Average Precision: 50.00%\n",
      "Average Precision: 50.00%\n",
      "Average Precision: 50.00%\n",
      "Average Recall: 50.00%\n",
      "Average Recall: 50.00%\n",
      "Average Recall: 50.00%\n",
      "Average Recall: 50.00%\n",
      "Average Recall: 50.00%\n",
      "Average Recall: 50.00%\n",
      "Average Recall: 50.00%\n",
      "Average Recall: 50.00%\n",
      "Average Recall: 50.00%\n",
      "Average Recall: 50.00%\n",
      "Average F1 Score: 50.00%\n",
      "Average F1 Score: 50.00%\n",
      "Average F1 Score: 50.00%\n",
      "Average F1 Score: 50.00%\n",
      "Average F1 Score: 50.00%\n",
      "Average F1 Score: 50.00%\n",
      "Average F1 Score: 50.00%\n",
      "Average F1 Score: 50.00%\n",
      "Average F1 Score: 50.00%\n",
      "Average F1 Score: 50.00%\n"
     ]
    }
   ],
   "source": [
    "acc = np.sum(np.array([eval.accuracy() for eval in evaluations])) / len(evaluations)\n",
    "precision = np.sum(np.array([eval.precision() for eval in evaluations])) / len(evaluations)\n",
    "recall = np.sum(np.array([eval.recall() for eval in evaluations])) / len(evaluations)\n",
    "f1 = np.sum(np.array([eval.f1score() for eval in evaluations])) / len(evaluations)   "
   ]
  },
  {
   "cell_type": "code",
   "execution_count": 9,
   "metadata": {},
   "outputs": [
    {
     "name": "stdout",
     "output_type": "stream",
     "text": [
      "Summary\n",
      "Accuracy: 1.0\n",
      "Precision: 50.0\n",
      "Recall: 50.0\n",
      "F1 Score: 50.0\n"
     ]
    }
   ],
   "source": [
    "print(\"Summary\")\n",
    "print(\"Accuracy:\", acc)\n",
    "print(\"Precision:\", precision)\n",
    "print(\"Recall:\", recall)\n",
    "print(\"F1 Score:\", f1)"
   ]
  }
 ],
 "metadata": {
  "kernelspec": {
   "display_name": "Python 3",
   "language": "python",
   "name": "python3"
  },
  "language_info": {
   "codemirror_mode": {
    "name": "ipython",
    "version": 3
   },
   "file_extension": ".py",
   "mimetype": "text/x-python",
   "name": "python",
   "nbconvert_exporter": "python",
   "pygments_lexer": "ipython3",
   "version": "3.8.0"
  }
 },
 "nbformat": 4,
 "nbformat_minor": 2
}
