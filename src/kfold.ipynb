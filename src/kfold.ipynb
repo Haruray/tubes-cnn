{
 "cells": [
  {
   "cell_type": "code",
   "execution_count": 1,
   "metadata": {},
   "outputs": [],
   "source": [
    "import cv2\n",
    "from neuralnet import NN, ConvLayer\n",
    "from neuralnet import Pooling\n",
    "from neuralnet import Flatten\n",
    "from neuralnet import Dense\n",
    "from neuralnet import load_model\n",
    "import numpy as np\n",
    "from neuralnet import Trainer\n",
    "from neuralnet import Preprocess\n",
    "from neuralnet import ImageDataset"
   ]
  },
  {
   "cell_type": "code",
   "execution_count": 2,
   "metadata": {},
   "outputs": [],
   "source": [
    "newModel = load_model(\"base.json\")"
   ]
  },
  {
   "cell_type": "code",
   "execution_count": 3,
   "metadata": {},
   "outputs": [],
   "source": [
    "data_preprocess = Preprocess(\"../data\", True)\n",
    "data_kfold = data_preprocess.get_data_kfold(max_data_len=100)"
   ]
  },
  {
   "cell_type": "code",
   "execution_count": 4,
   "metadata": {},
   "outputs": [
    {
     "name": "stdout",
     "output_type": "stream",
     "text": [
      "Fold 1\n",
      "Training model...\n",
      "Epoch 1/1\n"
     ]
    },
    {
     "name": "stderr",
     "output_type": "stream",
     "text": [
      "c:\\DATA\\Smt9\\mll\\tubes-cnn\\src\\neuralnet\\Activation.py:49: RuntimeWarning: overflow encountered in exp\n",
      "  return 1 / (1 + np.exp(-input))\n"
     ]
    },
    {
     "ename": "KeyboardInterrupt",
     "evalue": "",
     "output_type": "error",
     "traceback": [
      "\u001b[1;31m---------------------------------------------------------------------------\u001b[0m",
      "\u001b[1;31mKeyboardInterrupt\u001b[0m                         Traceback (most recent call last)",
      "\u001b[1;32mc:\\DATA\\Smt9\\mll\\tubes-cnn\\src\\kfold.ipynb Cell 4\u001b[0m line \u001b[0;36m2\n\u001b[0;32m     <a href='vscode-notebook-cell:/c%3A/DATA/Smt9/mll/tubes-cnn/src/kfold.ipynb#W5sZmlsZQ%3D%3D?line=11'>12</a>\u001b[0m test_data \u001b[39m=\u001b[39m data_kfold[i]\n\u001b[0;32m     <a href='vscode-notebook-cell:/c%3A/DATA/Smt9/mll/tubes-cnn/src/kfold.ipynb#W5sZmlsZQ%3D%3D?line=12'>13</a>\u001b[0m trainer \u001b[39m=\u001b[39m Trainer(\n\u001b[0;32m     <a href='vscode-notebook-cell:/c%3A/DATA/Smt9/mll/tubes-cnn/src/kfold.ipynb#W5sZmlsZQ%3D%3D?line=13'>14</a>\u001b[0m     newModel,\n\u001b[0;32m     <a href='vscode-notebook-cell:/c%3A/DATA/Smt9/mll/tubes-cnn/src/kfold.ipynb#W5sZmlsZQ%3D%3D?line=14'>15</a>\u001b[0m     \u001b[39m1\u001b[39m,\n\u001b[1;32m   (...)\u001b[0m\n\u001b[0;32m     <a href='vscode-notebook-cell:/c%3A/DATA/Smt9/mll/tubes-cnn/src/kfold.ipynb#W5sZmlsZQ%3D%3D?line=19'>20</a>\u001b[0m     test_label\u001b[39m=\u001b[39mtest_data\u001b[39m.\u001b[39mget_labels(),\n\u001b[0;32m     <a href='vscode-notebook-cell:/c%3A/DATA/Smt9/mll/tubes-cnn/src/kfold.ipynb#W5sZmlsZQ%3D%3D?line=20'>21</a>\u001b[0m )\n\u001b[1;32m---> <a href='vscode-notebook-cell:/c%3A/DATA/Smt9/mll/tubes-cnn/src/kfold.ipynb#W5sZmlsZQ%3D%3D?line=21'>22</a>\u001b[0m \u001b[39meval\u001b[39m \u001b[39m=\u001b[39m trainer\u001b[39m.\u001b[39;49mfit(save\u001b[39m=\u001b[39;49m\u001b[39mFalse\u001b[39;49;00m)\n\u001b[0;32m     <a href='vscode-notebook-cell:/c%3A/DATA/Smt9/mll/tubes-cnn/src/kfold.ipynb#W5sZmlsZQ%3D%3D?line=22'>23</a>\u001b[0m \u001b[39mprint\u001b[39m()\n\u001b[0;32m     <a href='vscode-notebook-cell:/c%3A/DATA/Smt9/mll/tubes-cnn/src/kfold.ipynb#W5sZmlsZQ%3D%3D?line=23'>24</a>\u001b[0m evaluations\u001b[39m.\u001b[39mappend(\u001b[39meval\u001b[39m)\n",
      "File \u001b[1;32mc:\\DATA\\Smt9\\mll\\tubes-cnn\\src\\neuralnet\\Trainer.py:29\u001b[0m, in \u001b[0;36mTrainer.fit\u001b[1;34m(self, save)\u001b[0m\n\u001b[0;32m     27\u001b[0m \u001b[39mprint\u001b[39m(\u001b[39mf\u001b[39m\u001b[39m\"\u001b[39m\u001b[39mEpoch \u001b[39m\u001b[39m{\u001b[39;00mepoch\u001b[39m+\u001b[39m\u001b[39m1\u001b[39m\u001b[39m}\u001b[39;00m\u001b[39m/\u001b[39m\u001b[39m{\u001b[39;00m\u001b[39mself\u001b[39m\u001b[39m.\u001b[39mepoch\u001b[39m}\u001b[39;00m\u001b[39m\"\u001b[39m)\n\u001b[0;32m     28\u001b[0m \u001b[39mfor\u001b[39;00m i \u001b[39min\u001b[39;00m \u001b[39mrange\u001b[39m(\u001b[39mlen\u001b[39m(\u001b[39mself\u001b[39m\u001b[39m.\u001b[39minput)):\n\u001b[1;32m---> 29\u001b[0m     \u001b[39mself\u001b[39;49m\u001b[39m.\u001b[39;49mmodel\u001b[39m.\u001b[39;49mbackpropagate(\n\u001b[0;32m     30\u001b[0m         \u001b[39mself\u001b[39;49m\u001b[39m.\u001b[39;49minput[i], \u001b[39mself\u001b[39;49m\u001b[39m.\u001b[39;49mlabel[i], \u001b[39mself\u001b[39;49m\u001b[39m.\u001b[39;49mlearning_rate\n\u001b[0;32m     31\u001b[0m     )\n\u001b[0;32m     32\u001b[0m \u001b[39meval\u001b[39m \u001b[39m=\u001b[39m Evaluator(\u001b[39m2\u001b[39m, \u001b[39mself\u001b[39m\u001b[39m.\u001b[39mmodel\u001b[39m.\u001b[39mpredict(\u001b[39mself\u001b[39m\u001b[39m.\u001b[39minput), \u001b[39mself\u001b[39m\u001b[39m.\u001b[39mlabel\u001b[39m.\u001b[39mflatten())\n\u001b[0;32m     33\u001b[0m \u001b[39meval\u001b[39m\u001b[39m.\u001b[39mconfusion_matrix()\n",
      "File \u001b[1;32mc:\\DATA\\Smt9\\mll\\tubes-cnn\\src\\neuralnet\\NN.py:61\u001b[0m, in \u001b[0;36mNN.backpropagate\u001b[1;34m(self, input, label, learning_rate)\u001b[0m\n\u001b[0;32m     59\u001b[0m \u001b[39mif\u001b[39;00m layers_count \u001b[39m<\u001b[39m\u001b[39m=\u001b[39m \u001b[39m0\u001b[39m:\n\u001b[0;32m     60\u001b[0m     \u001b[39mraise\u001b[39;00m \u001b[39mException\u001b[39;00m(\u001b[39m\"\u001b[39m\u001b[39mThere is no layers to backpropagate\u001b[39m\u001b[39m\"\u001b[39m)\n\u001b[1;32m---> 61\u001b[0m result \u001b[39m=\u001b[39m \u001b[39mself\u001b[39;49m\u001b[39m.\u001b[39;49mforward_propagate(\u001b[39minput\u001b[39;49m)\n\u001b[0;32m     62\u001b[0m prev_layer \u001b[39m=\u001b[39m \u001b[39mself\u001b[39m\u001b[39m.\u001b[39mlayers[layers_count \u001b[39m-\u001b[39m \u001b[39m1\u001b[39m]  \u001b[39m# final layer\u001b[39;00m\n\u001b[0;32m     63\u001b[0m last_deriv \u001b[39m=\u001b[39m \u001b[39mNone\u001b[39;00m\n",
      "File \u001b[1;32mc:\\DATA\\Smt9\\mll\\tubes-cnn\\src\\neuralnet\\NN.py:25\u001b[0m, in \u001b[0;36mNN.forward_propagate\u001b[1;34m(self, image)\u001b[0m\n\u001b[0;32m     23\u001b[0m prev_layer \u001b[39m=\u001b[39m \u001b[39mNone\u001b[39;00m\n\u001b[0;32m     24\u001b[0m \u001b[39mfor\u001b[39;00m layer \u001b[39min\u001b[39;00m \u001b[39mself\u001b[39m\u001b[39m.\u001b[39mlayers:\n\u001b[1;32m---> 25\u001b[0m     image \u001b[39m=\u001b[39m layer\u001b[39m.\u001b[39;49mforward_propagate(image)\n\u001b[0;32m     26\u001b[0m     layer\u001b[39m.\u001b[39mlast_layer \u001b[39m=\u001b[39m prev_layer\n\u001b[0;32m     27\u001b[0m     prev_layer \u001b[39m=\u001b[39m layer\n",
      "File \u001b[1;32mc:\\DATA\\Smt9\\mll\\tubes-cnn\\src\\neuralnet\\ConvLayer.py:145\u001b[0m, in \u001b[0;36mConvLayer.forward_propagate\u001b[1;34m(self, input)\u001b[0m\n\u001b[0;32m    143\u001b[0m         \u001b[39m# bagian (region) yang sudah di ekstrak di kalikan dengan filter yang ada. Argumen \"axis\" aku belum tau buat apa..\u001b[39;00m\n\u001b[0;32m    144\u001b[0m         \u001b[39mif\u001b[39;00m (i \u001b[39m<\u001b[39m \u001b[39mself\u001b[39m\u001b[39m.\u001b[39mfeature_map_v) \u001b[39mand\u001b[39;00m (j \u001b[39m<\u001b[39m \u001b[39mself\u001b[39m\u001b[39m.\u001b[39mfeature_map_v):\n\u001b[1;32m--> 145\u001b[0m             feature_map[i, j] \u001b[39m+\u001b[39m\u001b[39m=\u001b[39m np\u001b[39m.\u001b[39msum(region \u001b[39m*\u001b[39m \u001b[39mself\u001b[39m\u001b[39m.\u001b[39mfilter)\n\u001b[0;32m    147\u001b[0m feature_map \u001b[39m=\u001b[39m \u001b[39mself\u001b[39m\u001b[39m.\u001b[39mdetector(feature_map)\n\u001b[0;32m    148\u001b[0m \u001b[39mself\u001b[39m\u001b[39m.\u001b[39mlast_input \u001b[39m=\u001b[39m \u001b[39minput\u001b[39m\n",
      "\u001b[1;31mKeyboardInterrupt\u001b[0m: "
     ]
    }
   ],
   "source": [
    "def combine_datasets(datasets:list):\n",
    "    combined = ImageDataset([])\n",
    "    for dataset in datasets:\n",
    "        combined.data += dataset.data\n",
    "    return combined\n",
    "\n",
    "evaluations = []\n",
    "for i in range(len(data_kfold)):\n",
    "    print(\"Fold\", i+1)\n",
    "    exclusion = [data for j, data in enumerate(data_kfold) if j != i]\n",
    "    train_data = combine_datasets(exclusion)\n",
    "    test_data = data_kfold[i]\n",
    "    trainer = Trainer(\n",
    "        newModel,\n",
    "        1,\n",
    "        0.1,\n",
    "        train_data.get_images(),\n",
    "        train_data.get_labels(),\n",
    "        test_input=test_data.get_images(),\n",
    "        test_label=test_data.get_labels(),\n",
    "    )\n",
    "    eval = trainer.fit(save=False)\n",
    "    print()\n",
    "    evaluations.append(eval)\n",
    "\n",
    "    \n"
   ]
  }
 ],
 "metadata": {
  "kernelspec": {
   "display_name": "Python 3",
   "language": "python",
   "name": "python3"
  },
  "language_info": {
   "codemirror_mode": {
    "name": "ipython",
    "version": 3
   },
   "file_extension": ".py",
   "mimetype": "text/x-python",
   "name": "python",
   "nbconvert_exporter": "python",
   "pygments_lexer": "ipython3",
   "version": "3.8.0"
  }
 },
 "nbformat": 4,
 "nbformat_minor": 2
}
