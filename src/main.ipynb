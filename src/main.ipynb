{
 "cells": [
  {
   "cell_type": "code",
   "execution_count": 2,
   "metadata": {},
   "outputs": [],
   "source": [
    "import cv2\n",
    "from neuralnet import NN, ConvLayer\n",
    "from neuralnet import Pooling\n",
    "from neuralnet import Flatten\n",
    "from neuralnet import Dense\n",
    "from neuralnet import load_model\n",
    "import numpy as np\n",
    "from neuralnet import Trainer\n",
    "from neuralnet import Preprocess"
   ]
  },
  {
   "cell_type": "code",
   "execution_count": 3,
   "metadata": {},
   "outputs": [],
   "source": [
    "image = cv2.imread(\"251.jpeg\")\n",
    "model = NN(image.shape)\n",
    "model.add(\n",
    "    ConvLayer(\n",
    "        input_shape=image.shape,\n",
    "        padding=0,\n",
    "        num_filters=1,\n",
    "        filter_size=(3, 3),\n",
    "        stride=1,\n",
    "        detector_function=\"relu\",\n",
    "    )\n",
    ")\n",
    "model.add(Pooling(mode=\"max\", pool_size=(2, 2), stride=2))\n",
    "model.add(Flatten())\n",
    "\n",
    "flat_shape = model.layers[2].feature_map_shape\n",
    "model.add(Dense(8, flat_shape, \"relu\"))\n",
    "\n",
    "model.add(Dense(1, 8, \"sigmoid\"))\n",
    "model.save_model(\"base.json\", 4)"
   ]
  },
  {
   "cell_type": "code",
   "execution_count": 4,
   "metadata": {},
   "outputs": [
    {
     "name": "stdout",
     "output_type": "stream",
     "text": [
      "(90, 256, 256, 3)\n",
      "(10, 256, 256, 3)\n"
     ]
    }
   ],
   "source": [
    "data_preprocess = Preprocess(\"../data\", False)\n",
    "train, test = data_preprocess.get_data_split(split=(0.9,0.1), max_data_len=100)\n",
    "\n",
    "print(train.get_images().shape)\n",
    "print(test.get_images().shape)"
   ]
  },
  {
   "cell_type": "code",
   "execution_count": 5,
   "metadata": {},
   "outputs": [
    {
     "name": "stdout",
     "output_type": "stream",
     "text": [
      "Training model...\n",
      "Epoch 1/1\n"
     ]
    },
    {
     "name": "stderr",
     "output_type": "stream",
     "text": [
      "c:\\DATA\\Smt9\\mll\\tubes-cnn\\src\\neuralnet\\Activation.py:49: RuntimeWarning: overflow encountered in exp\n",
      "  return 1 / (1 + np.exp(-input))\n",
      "c:\\DATA\\Smt9\\mll\\tubes-cnn\\src\\neuralnet\\Pooling.py:116: RuntimeWarning: invalid value encountered in multiply\n",
      "  w*(s_w):(w*(s_w))+k_w, channel] += din[h, w, channel] * mask\n",
      "c:\\DATA\\Smt9\\mll\\tubes-cnn\\src\\neuralnet\\ConvLayer.py:159: RuntimeWarning: invalid value encountered in multiply\n",
      "  dout[f] += din[i, j, f] * region\n"
     ]
    },
    {
     "name": "stdout",
     "output_type": "stream",
     "text": [
      "Confusion Matrix:\n",
      "[[36  0]\n",
      " [54  0]]\n",
      "Accuracy: 40.00%\n",
      "Average Precision: 20.00%\n",
      "Average Recall: 50.00%\n",
      "Average F1 Score: 28.57%\n"
     ]
    }
   ],
   "source": [
    "trainer = Trainer(\n",
    "    model,\n",
    "    1,\n",
    "    0.1,\n",
    "    train.get_images(),\n",
    "    train.get_labels(),\n",
    "    test_input=test.get_images(),\n",
    "    test_label=test.get_labels(),\n",
    ")\n",
    "trainer.fit()"
   ]
  },
  {
   "cell_type": "code",
   "execution_count": 6,
   "metadata": {},
   "outputs": [
    {
     "data": {
      "text/plain": [
       "array([[nan, nan, nan, ..., nan, nan, nan],\n",
       "       [nan, nan, nan, ..., nan, nan, nan],\n",
       "       [nan, nan, nan, ..., nan, nan, nan],\n",
       "       ...,\n",
       "       [nan, nan, nan, ..., nan, nan, nan],\n",
       "       [nan, nan, nan, ..., nan, nan, nan],\n",
       "       [nan, nan, nan, ..., nan, nan, nan]])"
      ]
     },
     "execution_count": 6,
     "metadata": {},
     "output_type": "execute_result"
    }
   ],
   "source": [
    "model.layers[3].weights"
   ]
  },
  {
   "cell_type": "code",
   "execution_count": 6,
   "metadata": {},
   "outputs": [
    {
     "ename": "TypeError",
     "evalue": "unhashable type: 'numpy.ndarray'",
     "output_type": "error",
     "traceback": [
      "\u001b[1;31m---------------------------------------------------------------------------\u001b[0m",
      "\u001b[1;31mTypeError\u001b[0m                                 Traceback (most recent call last)",
      "\u001b[1;32mc:\\DATA\\Smt9\\mll\\tubes-cnn\\src\\main.ipynb Cell 5\u001b[0m line \u001b[0;36m8\n\u001b[0;32m      <a href='vscode-notebook-cell:/c%3A/DATA/Smt9/mll/tubes-cnn/src/main.ipynb#W6sZmlsZQ%3D%3D?line=4'>5</a>\u001b[0m id2label \u001b[39m=\u001b[39m {\u001b[39m0\u001b[39m:\u001b[39m\"\u001b[39m\u001b[39mbear\u001b[39m\u001b[39m\"\u001b[39m , \u001b[39m1\u001b[39m :\u001b[39m\"\u001b[39m\u001b[39mpanda\u001b[39m\u001b[39m\"\u001b[39m}\n\u001b[0;32m      <a href='vscode-notebook-cell:/c%3A/DATA/Smt9/mll/tubes-cnn/src/main.ipynb#W6sZmlsZQ%3D%3D?line=6'>7</a>\u001b[0m \u001b[39mfor\u001b[39;00m i \u001b[39min\u001b[39;00m \u001b[39mrange\u001b[39m(\u001b[39mlen\u001b[39m(pred)):\n\u001b[1;32m----> <a href='vscode-notebook-cell:/c%3A/DATA/Smt9/mll/tubes-cnn/src/main.ipynb#W6sZmlsZQ%3D%3D?line=7'>8</a>\u001b[0m     \u001b[39mprint\u001b[39m(\u001b[39m\"\u001b[39m\u001b[39mPredicted: \u001b[39m\u001b[39m\"\u001b[39m, id2label[pred[i]], \u001b[39m\"\u001b[39m\u001b[39mActual: \u001b[39m\u001b[39m\"\u001b[39m, id2label[test_labels[i]])\n",
      "\u001b[1;31mTypeError\u001b[0m: unhashable type: 'numpy.ndarray'"
     ]
    }
   ],
   "source": [
    "# take 10 data from test set and predict\n",
    "test_images = test.get_images()[:10]\n",
    "test_labels = test.get_labels()[:10]\n",
    "pred = model.predict(test_images)\n",
    "id2label = {0:\"bear\" , 1 :\"panda\"}\n",
    "\n",
    "for i in range(len(pred)):\n",
    "    print(\"Predicted: \", id2label[pred[i]], \"Actual: \", id2label[test_labels[i][0]])"
   ]
  }
 ],
 "metadata": {
  "kernelspec": {
   "display_name": "Python 3",
   "language": "python",
   "name": "python3"
  },
  "language_info": {
   "codemirror_mode": {
    "name": "ipython",
    "version": 3
   },
   "file_extension": ".py",
   "mimetype": "text/x-python",
   "name": "python",
   "nbconvert_exporter": "python",
   "pygments_lexer": "ipython3",
   "version": "3.8.0"
  }
 },
 "nbformat": 4,
 "nbformat_minor": 2
}
