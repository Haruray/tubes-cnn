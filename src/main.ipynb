{
 "cells": [
  {
   "cell_type": "code",
   "execution_count": 1,
   "metadata": {},
   "outputs": [],
   "source": [
    "import cv2\n",
    "from neuralnet import NN, ConvLayer\n",
    "from neuralnet import Pooling\n",
    "from neuralnet import Flatten\n",
    "from neuralnet import Dense\n",
    "from neuralnet import load_model\n",
    "import numpy as np\n",
    "from neuralnet import Trainer\n",
    "from neuralnet import Preprocess"
   ]
  },
  {
   "cell_type": "code",
   "execution_count": 2,
   "metadata": {},
   "outputs": [],
   "source": [
    "image = cv2.imread(\"251.jpeg\")\n",
    "model = NN(image.shape)\n",
    "model.add(\n",
    "    ConvLayer(\n",
    "        input_shape=image.shape,\n",
    "        padding=0,\n",
    "        num_filters=1,\n",
    "        filter_size=(3, 3),\n",
    "        stride=1,\n",
    "        detector_function=\"relu\",\n",
    "    )\n",
    ")\n",
    "model.add(Pooling(mode=\"max\", pool_size=(2, 2), stride=2))\n",
    "model.add(Flatten())\n",
    "\n",
    "flat_shape = model.layers[2].feature_map_shape\n",
    "model.add(Dense(8, flat_shape, \"relu\"))\n",
    "\n",
    "model.add(Dense(1, 8, \"sigmoid\"))\n",
    "model.save_model(\"base.json\", 4)"
   ]
  },
  {
   "cell_type": "code",
   "execution_count": 3,
   "metadata": {},
   "outputs": [
    {
     "name": "stdout",
     "output_type": "stream",
     "text": [
      "(90, 256, 256, 3)\n",
      "(10, 256, 256, 3)\n"
     ]
    }
   ],
   "source": [
    "data_preprocess = Preprocess(\"../data\", False)\n",
    "train, test = data_preprocess.get_data_split(split=(0.9,0.1), max_data_len=100)\n",
    "\n",
    "print(train.get_images().shape)\n",
    "print(test.get_images().shape)"
   ]
  },
  {
   "cell_type": "code",
   "execution_count": 4,
   "metadata": {},
   "outputs": [
    {
     "name": "stdout",
     "output_type": "stream",
     "text": [
      "Training model...\n",
      "Epoch 1/1\n",
      "0\n",
      "1\n"
     ]
    },
    {
     "ename": "KeyboardInterrupt",
     "evalue": "",
     "output_type": "error",
     "traceback": [
      "\u001b[1;31m---------------------------------------------------------------------------\u001b[0m",
      "\u001b[1;31mKeyboardInterrupt\u001b[0m                         Traceback (most recent call last)",
      "\u001b[1;32mc:\\DATA\\Smt9\\mll\\tubes-cnn\\src\\main.ipynb Cell 4\u001b[0m line \u001b[0;36m1\n\u001b[0;32m      <a href='vscode-notebook-cell:/c%3A/DATA/Smt9/mll/tubes-cnn/src/main.ipynb#W2sZmlsZQ%3D%3D?line=0'>1</a>\u001b[0m trainer \u001b[39m=\u001b[39m Trainer(\n\u001b[0;32m      <a href='vscode-notebook-cell:/c%3A/DATA/Smt9/mll/tubes-cnn/src/main.ipynb#W2sZmlsZQ%3D%3D?line=1'>2</a>\u001b[0m     model,\n\u001b[0;32m      <a href='vscode-notebook-cell:/c%3A/DATA/Smt9/mll/tubes-cnn/src/main.ipynb#W2sZmlsZQ%3D%3D?line=2'>3</a>\u001b[0m     \u001b[39m1\u001b[39m,\n\u001b[1;32m   (...)\u001b[0m\n\u001b[0;32m      <a href='vscode-notebook-cell:/c%3A/DATA/Smt9/mll/tubes-cnn/src/main.ipynb#W2sZmlsZQ%3D%3D?line=7'>8</a>\u001b[0m     test_label\u001b[39m=\u001b[39mtest\u001b[39m.\u001b[39mget_labels(),\n\u001b[0;32m      <a href='vscode-notebook-cell:/c%3A/DATA/Smt9/mll/tubes-cnn/src/main.ipynb#W2sZmlsZQ%3D%3D?line=8'>9</a>\u001b[0m )\n\u001b[1;32m---> <a href='vscode-notebook-cell:/c%3A/DATA/Smt9/mll/tubes-cnn/src/main.ipynb#W2sZmlsZQ%3D%3D?line=9'>10</a>\u001b[0m trainer\u001b[39m.\u001b[39;49mfit()\n",
      "File \u001b[1;32mc:\\DATA\\Smt9\\mll\\tubes-cnn\\src\\neuralnet\\Trainer.py:30\u001b[0m, in \u001b[0;36mTrainer.fit\u001b[1;34m(self)\u001b[0m\n\u001b[0;32m     28\u001b[0m \u001b[39mfor\u001b[39;00m i \u001b[39min\u001b[39;00m \u001b[39mrange\u001b[39m(\u001b[39mlen\u001b[39m(\u001b[39mself\u001b[39m\u001b[39m.\u001b[39minput)):\n\u001b[0;32m     29\u001b[0m     \u001b[39mprint\u001b[39m(i)\n\u001b[1;32m---> 30\u001b[0m     \u001b[39mself\u001b[39;49m\u001b[39m.\u001b[39;49mmodel\u001b[39m.\u001b[39;49mbackpropagate(\n\u001b[0;32m     31\u001b[0m         \u001b[39mself\u001b[39;49m\u001b[39m.\u001b[39;49minput[i], \u001b[39mself\u001b[39;49m\u001b[39m.\u001b[39;49mlabel[i], \u001b[39mself\u001b[39;49m\u001b[39m.\u001b[39;49mlearning_rate\n\u001b[0;32m     32\u001b[0m     )\n\u001b[0;32m     33\u001b[0m \u001b[39meval\u001b[39m \u001b[39m=\u001b[39m Evaluator(\u001b[39m2\u001b[39m, \u001b[39mself\u001b[39m\u001b[39m.\u001b[39mmodel\u001b[39m.\u001b[39mpredict(\u001b[39mself\u001b[39m\u001b[39m.\u001b[39minput), \u001b[39mself\u001b[39m\u001b[39m.\u001b[39mlabel\u001b[39m.\u001b[39mflatten())\n\u001b[0;32m     34\u001b[0m \u001b[39meval\u001b[39m\u001b[39m.\u001b[39mconfusion_matrix()\n",
      "File \u001b[1;32mc:\\DATA\\Smt9\\mll\\tubes-cnn\\src\\neuralnet\\NN.py:61\u001b[0m, in \u001b[0;36mNN.backpropagate\u001b[1;34m(self, input, label, learning_rate)\u001b[0m\n\u001b[0;32m     59\u001b[0m \u001b[39mif\u001b[39;00m layers_count \u001b[39m<\u001b[39m\u001b[39m=\u001b[39m \u001b[39m0\u001b[39m:\n\u001b[0;32m     60\u001b[0m     \u001b[39mraise\u001b[39;00m \u001b[39mException\u001b[39;00m(\u001b[39m\"\u001b[39m\u001b[39mThere is no layers to backpropagate\u001b[39m\u001b[39m\"\u001b[39m)\n\u001b[1;32m---> 61\u001b[0m result \u001b[39m=\u001b[39m \u001b[39mself\u001b[39;49m\u001b[39m.\u001b[39;49mforward_propagate(\u001b[39minput\u001b[39;49m)\n\u001b[0;32m     62\u001b[0m prev_layer \u001b[39m=\u001b[39m \u001b[39mself\u001b[39m\u001b[39m.\u001b[39mlayers[layers_count \u001b[39m-\u001b[39m \u001b[39m1\u001b[39m]  \u001b[39m# final layer\u001b[39;00m\n\u001b[0;32m     63\u001b[0m last_deriv \u001b[39m=\u001b[39m \u001b[39mNone\u001b[39;00m\n",
      "File \u001b[1;32mc:\\DATA\\Smt9\\mll\\tubes-cnn\\src\\neuralnet\\NN.py:25\u001b[0m, in \u001b[0;36mNN.forward_propagate\u001b[1;34m(self, image)\u001b[0m\n\u001b[0;32m     23\u001b[0m prev_layer \u001b[39m=\u001b[39m \u001b[39mNone\u001b[39;00m\n\u001b[0;32m     24\u001b[0m \u001b[39mfor\u001b[39;00m layer \u001b[39min\u001b[39;00m \u001b[39mself\u001b[39m\u001b[39m.\u001b[39mlayers:\n\u001b[1;32m---> 25\u001b[0m     image \u001b[39m=\u001b[39m layer\u001b[39m.\u001b[39;49mforward_propagate(image)\n\u001b[0;32m     26\u001b[0m     layer\u001b[39m.\u001b[39mlast_layer \u001b[39m=\u001b[39m prev_layer\n\u001b[0;32m     27\u001b[0m     prev_layer \u001b[39m=\u001b[39m layer\n",
      "File \u001b[1;32mc:\\DATA\\Smt9\\mll\\tubes-cnn\\src\\neuralnet\\ConvLayer.py:144\u001b[0m, in \u001b[0;36mConvLayer.forward_propagate\u001b[1;34m(self, input)\u001b[0m\n\u001b[0;32m    142\u001b[0m         \u001b[39m# bagian (region) yang sudah di ekstrak di kalikan dengan filter yang ada. Argumen \"axis\" aku belum tau buat apa..\u001b[39;00m\n\u001b[0;32m    143\u001b[0m         \u001b[39mif\u001b[39;00m (i \u001b[39m<\u001b[39m \u001b[39mself\u001b[39m\u001b[39m.\u001b[39mfeature_map_v) \u001b[39mand\u001b[39;00m (j \u001b[39m<\u001b[39m \u001b[39mself\u001b[39m\u001b[39m.\u001b[39mfeature_map_v):\n\u001b[1;32m--> 144\u001b[0m             feature_map[i, j] \u001b[39m+\u001b[39m\u001b[39m=\u001b[39m np\u001b[39m.\u001b[39;49msum(region \u001b[39m*\u001b[39;49m \u001b[39mself\u001b[39;49m\u001b[39m.\u001b[39;49mfilter)\n\u001b[0;32m    146\u001b[0m feature_map \u001b[39m=\u001b[39m \u001b[39mself\u001b[39m\u001b[39m.\u001b[39mdetector(feature_map)\n\u001b[0;32m    147\u001b[0m \u001b[39mself\u001b[39m\u001b[39m.\u001b[39mlast_input \u001b[39m=\u001b[39m \u001b[39minput\u001b[39m\n",
      "File \u001b[1;32m<__array_function__ internals>:200\u001b[0m, in \u001b[0;36msum\u001b[1;34m(*args, **kwargs)\u001b[0m\n",
      "File \u001b[1;32mc:\\Users\\HP\\AppData\\Local\\Programs\\Python\\Python38\\lib\\site-packages\\numpy\\core\\fromnumeric.py:2324\u001b[0m, in \u001b[0;36msum\u001b[1;34m(a, axis, dtype, out, keepdims, initial, where)\u001b[0m\n\u001b[0;32m   2321\u001b[0m         \u001b[39mreturn\u001b[39;00m out\n\u001b[0;32m   2322\u001b[0m     \u001b[39mreturn\u001b[39;00m res\n\u001b[1;32m-> 2324\u001b[0m \u001b[39mreturn\u001b[39;00m _wrapreduction(a, np\u001b[39m.\u001b[39;49madd, \u001b[39m'\u001b[39;49m\u001b[39msum\u001b[39;49m\u001b[39m'\u001b[39;49m, axis, dtype, out, keepdims\u001b[39m=\u001b[39;49mkeepdims,\n\u001b[0;32m   2325\u001b[0m                       initial\u001b[39m=\u001b[39;49minitial, where\u001b[39m=\u001b[39;49mwhere)\n",
      "\u001b[1;31mKeyboardInterrupt\u001b[0m: "
     ]
    }
   ],
   "source": [
    "trainer = Trainer(\n",
    "    model,\n",
    "    1,\n",
    "    0.1,\n",
    "    train.get_images(),\n",
    "    train.get_labels(),\n",
    "    test_input=test.get_images(),\n",
    "    test_label=test.get_labels(),\n",
    ")\n",
    "trainer.fit()"
   ]
  },
  {
   "cell_type": "code",
   "execution_count": 6,
   "metadata": {},
   "outputs": [
    {
     "data": {
      "text/plain": [
       "array([[nan, nan, nan, ..., nan, nan, nan],\n",
       "       [nan, nan, nan, ..., nan, nan, nan],\n",
       "       [nan, nan, nan, ..., nan, nan, nan],\n",
       "       ...,\n",
       "       [nan, nan, nan, ..., nan, nan, nan],\n",
       "       [nan, nan, nan, ..., nan, nan, nan],\n",
       "       [nan, nan, nan, ..., nan, nan, nan]])"
      ]
     },
     "execution_count": 6,
     "metadata": {},
     "output_type": "execute_result"
    }
   ],
   "source": [
    "model.layers[3].weights"
   ]
  },
  {
   "cell_type": "code",
   "execution_count": 6,
   "metadata": {},
   "outputs": [
    {
     "ename": "TypeError",
     "evalue": "unhashable type: 'numpy.ndarray'",
     "output_type": "error",
     "traceback": [
      "\u001b[1;31m---------------------------------------------------------------------------\u001b[0m",
      "\u001b[1;31mTypeError\u001b[0m                                 Traceback (most recent call last)",
      "\u001b[1;32mc:\\DATA\\Smt9\\mll\\tubes-cnn\\src\\main.ipynb Cell 5\u001b[0m line \u001b[0;36m8\n\u001b[0;32m      <a href='vscode-notebook-cell:/c%3A/DATA/Smt9/mll/tubes-cnn/src/main.ipynb#W6sZmlsZQ%3D%3D?line=4'>5</a>\u001b[0m id2label \u001b[39m=\u001b[39m {\u001b[39m0\u001b[39m:\u001b[39m\"\u001b[39m\u001b[39mbear\u001b[39m\u001b[39m\"\u001b[39m , \u001b[39m1\u001b[39m :\u001b[39m\"\u001b[39m\u001b[39mpanda\u001b[39m\u001b[39m\"\u001b[39m}\n\u001b[0;32m      <a href='vscode-notebook-cell:/c%3A/DATA/Smt9/mll/tubes-cnn/src/main.ipynb#W6sZmlsZQ%3D%3D?line=6'>7</a>\u001b[0m \u001b[39mfor\u001b[39;00m i \u001b[39min\u001b[39;00m \u001b[39mrange\u001b[39m(\u001b[39mlen\u001b[39m(pred)):\n\u001b[1;32m----> <a href='vscode-notebook-cell:/c%3A/DATA/Smt9/mll/tubes-cnn/src/main.ipynb#W6sZmlsZQ%3D%3D?line=7'>8</a>\u001b[0m     \u001b[39mprint\u001b[39m(\u001b[39m\"\u001b[39m\u001b[39mPredicted: \u001b[39m\u001b[39m\"\u001b[39m, id2label[pred[i]], \u001b[39m\"\u001b[39m\u001b[39mActual: \u001b[39m\u001b[39m\"\u001b[39m, id2label[test_labels[i]])\n",
      "\u001b[1;31mTypeError\u001b[0m: unhashable type: 'numpy.ndarray'"
     ]
    }
   ],
   "source": [
    "# take 10 data from test set and predict\n",
    "test_images = test.get_images()[:10]\n",
    "test_labels = test.get_labels()[:10]\n",
    "pred = model.predict(test_images)\n",
    "id2label = {0:\"bear\" , 1 :\"panda\"}\n",
    "\n",
    "for i in range(len(pred)):\n",
    "    print(\"Predicted: \", id2label[pred[i]], \"Actual: \", id2label[test_labels[i][0]])"
   ]
  }
 ],
 "metadata": {
  "kernelspec": {
   "display_name": "Python 3",
   "language": "python",
   "name": "python3"
  },
  "language_info": {
   "codemirror_mode": {
    "name": "ipython",
    "version": 3
   },
   "file_extension": ".py",
   "mimetype": "text/x-python",
   "name": "python",
   "nbconvert_exporter": "python",
   "pygments_lexer": "ipython3",
   "version": "3.8.0"
  }
 },
 "nbformat": 4,
 "nbformat_minor": 2
}
