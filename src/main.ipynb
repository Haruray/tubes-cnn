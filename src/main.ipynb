{
 "cells": [
  {
   "cell_type": "code",
   "execution_count": 1,
   "metadata": {},
   "outputs": [],
   "source": [
    "import cv2\n",
    "from neuralnet import NN, ConvLayer\n",
    "from neuralnet import Pooling\n",
    "from neuralnet import Flatten\n",
    "from neuralnet import Dense\n",
    "from neuralnet import load_model\n",
    "import numpy as np\n",
    "from neuralnet import Trainer\n",
    "from neuralnet import Preprocess"
   ]
  },
  {
   "cell_type": "code",
   "execution_count": 2,
   "metadata": {},
   "outputs": [],
   "source": [
    "image = cv2.imread(\"251.jpeg\")\n",
    "model = NN(image.shape)\n",
    "model.add(\n",
    "    ConvLayer(\n",
    "        input_shape=image.shape,\n",
    "        padding=0,\n",
    "        num_filters=1,\n",
    "        filter_size=(3, 3),\n",
    "        stride=1,\n",
    "        detector_function=\"relu\",\n",
    "    )\n",
    ")\n",
    "model.add(Pooling(mode=\"max\", pool_size=(2, 2), stride=2))\n",
    "model.add(Flatten())\n",
    "\n",
    "flat_shape = model.layers[2].feature_map_shape\n",
    "model.add(Dense(8, flat_shape, \"relu\"))\n",
    "\n",
    "model.add(Dense(1, 8, \"sigmoid\"))\n",
    "model.save_model(\"base.json\", 4)"
   ]
  },
  {
   "cell_type": "code",
   "execution_count": 3,
   "metadata": {},
   "outputs": [
    {
     "data": {
      "text/plain": [
       "(450, 256, 256, 3)"
      ]
     },
     "execution_count": 3,
     "metadata": {},
     "output_type": "execute_result"
    }
   ],
   "source": [
    "data_preprocess = Preprocess(\"../data\", False)\n",
    "train, test = data_preprocess.get_data_split(split=(0.9,0.1), max_data_len=100)\n",
    "\n",
    "train.get_images().shape"
   ]
  },
  {
   "cell_type": "code",
   "execution_count": 7,
   "metadata": {},
   "outputs": [],
   "source": [
    "# Build the model\n",
    "# newModel = load_model(\"base.json\")"
   ]
  },
  {
   "cell_type": "code",
   "execution_count": 4,
   "metadata": {},
   "outputs": [
    {
     "name": "stdout",
     "output_type": "stream",
     "text": [
      "Training model...\n",
      "Epoch 1/1\n"
     ]
    },
    {
     "name": "stderr",
     "output_type": "stream",
     "text": [
      "c:\\DATA\\Smt9\\mll\\tubes-cnn\\src\\neuralnet\\Activation.py:49: RuntimeWarning: overflow encountered in exp\n",
      "  return 1 / (1 + np.exp(-input))\n",
      "c:\\DATA\\Smt9\\mll\\tubes-cnn\\src\\neuralnet\\Dense.py:64: RuntimeWarning: invalid value encountered in multiply\n",
      "  dout = out.T * self.last_input  # dNet/dW * dE/dNet\n",
      "c:\\DATA\\Smt9\\mll\\tubes-cnn\\src\\neuralnet\\Pooling.py:116: RuntimeWarning: invalid value encountered in multiply\n",
      "  w*(s_w):(w*(s_w))+k_w, channel] += din[h, w, channel] * mask\n",
      "c:\\DATA\\Smt9\\mll\\tubes-cnn\\src\\neuralnet\\ConvLayer.py:159: RuntimeWarning: invalid value encountered in multiply\n",
      "  dout[f] += din[i, j, f] * region\n"
     ]
    },
    {
     "ename": "KeyboardInterrupt",
     "evalue": "",
     "output_type": "error",
     "traceback": [
      "\u001b[1;31m---------------------------------------------------------------------------\u001b[0m",
      "\u001b[1;31mKeyboardInterrupt\u001b[0m                         Traceback (most recent call last)",
      "\u001b[1;32mc:\\DATA\\Smt9\\mll\\tubes-cnn\\src\\main.ipynb Cell 5\u001b[0m line \u001b[0;36m1\n\u001b[0;32m      <a href='vscode-notebook-cell:/c%3A/DATA/Smt9/mll/tubes-cnn/src/main.ipynb#W2sZmlsZQ%3D%3D?line=0'>1</a>\u001b[0m trainer \u001b[39m=\u001b[39m Trainer(\n\u001b[0;32m      <a href='vscode-notebook-cell:/c%3A/DATA/Smt9/mll/tubes-cnn/src/main.ipynb#W2sZmlsZQ%3D%3D?line=1'>2</a>\u001b[0m     model,\n\u001b[0;32m      <a href='vscode-notebook-cell:/c%3A/DATA/Smt9/mll/tubes-cnn/src/main.ipynb#W2sZmlsZQ%3D%3D?line=2'>3</a>\u001b[0m     \u001b[39m1\u001b[39m,\n\u001b[1;32m   (...)\u001b[0m\n\u001b[0;32m      <a href='vscode-notebook-cell:/c%3A/DATA/Smt9/mll/tubes-cnn/src/main.ipynb#W2sZmlsZQ%3D%3D?line=7'>8</a>\u001b[0m     test_label\u001b[39m=\u001b[39mtest\u001b[39m.\u001b[39mget_labels(),\n\u001b[0;32m      <a href='vscode-notebook-cell:/c%3A/DATA/Smt9/mll/tubes-cnn/src/main.ipynb#W2sZmlsZQ%3D%3D?line=8'>9</a>\u001b[0m )\n\u001b[1;32m---> <a href='vscode-notebook-cell:/c%3A/DATA/Smt9/mll/tubes-cnn/src/main.ipynb#W2sZmlsZQ%3D%3D?line=9'>10</a>\u001b[0m trainer\u001b[39m.\u001b[39;49mfit()\n",
      "File \u001b[1;32mc:\\DATA\\Smt9\\mll\\tubes-cnn\\src\\neuralnet\\Trainer.py:29\u001b[0m, in \u001b[0;36mTrainer.fit\u001b[1;34m(self)\u001b[0m\n\u001b[0;32m     27\u001b[0m \u001b[39mprint\u001b[39m(\u001b[39mf\u001b[39m\u001b[39m\"\u001b[39m\u001b[39mEpoch \u001b[39m\u001b[39m{\u001b[39;00mepoch\u001b[39m+\u001b[39m\u001b[39m1\u001b[39m\u001b[39m}\u001b[39;00m\u001b[39m/\u001b[39m\u001b[39m{\u001b[39;00m\u001b[39mself\u001b[39m\u001b[39m.\u001b[39mepoch\u001b[39m}\u001b[39;00m\u001b[39m\"\u001b[39m)\n\u001b[0;32m     28\u001b[0m \u001b[39mfor\u001b[39;00m i \u001b[39min\u001b[39;00m \u001b[39mrange\u001b[39m(\u001b[39mlen\u001b[39m(\u001b[39mself\u001b[39m\u001b[39m.\u001b[39minput)):\n\u001b[1;32m---> 29\u001b[0m     \u001b[39mself\u001b[39;49m\u001b[39m.\u001b[39;49mmodel\u001b[39m.\u001b[39;49mbackpropagate(\n\u001b[0;32m     30\u001b[0m         \u001b[39mself\u001b[39;49m\u001b[39m.\u001b[39;49minput[i], \u001b[39mself\u001b[39;49m\u001b[39m.\u001b[39;49mlabel[i], \u001b[39mself\u001b[39;49m\u001b[39m.\u001b[39;49mlearning_rate\n\u001b[0;32m     31\u001b[0m     )\n\u001b[0;32m     32\u001b[0m \u001b[39meval\u001b[39m \u001b[39m=\u001b[39m Evaluator(\u001b[39m2\u001b[39m, \u001b[39mself\u001b[39m\u001b[39m.\u001b[39mmodel\u001b[39m.\u001b[39mpredict(\u001b[39mself\u001b[39m\u001b[39m.\u001b[39minput), \u001b[39mself\u001b[39m\u001b[39m.\u001b[39mlabel\u001b[39m.\u001b[39mflatten())\n\u001b[0;32m     33\u001b[0m \u001b[39meval\u001b[39m\u001b[39m.\u001b[39mconfusion_matrix()\n",
      "File \u001b[1;32mc:\\DATA\\Smt9\\mll\\tubes-cnn\\src\\neuralnet\\NN.py:107\u001b[0m, in \u001b[0;36mNN.backpropagate\u001b[1;34m(self, input, label, learning_rate)\u001b[0m\n\u001b[0;32m    105\u001b[0m         last_deriv \u001b[39m=\u001b[39m layer\u001b[39m.\u001b[39mbackpropagate(last_deriv, learning_rate)\n\u001b[0;32m    106\u001b[0m     \u001b[39melse\u001b[39;00m:\n\u001b[1;32m--> 107\u001b[0m         last_deriv \u001b[39m=\u001b[39m layer\u001b[39m.\u001b[39;49mbackpropagate(last_deriv, learning_rate)\n\u001b[0;32m    108\u001b[0m prev_layer \u001b[39m=\u001b[39m layer\n",
      "File \u001b[1;32mc:\\DATA\\Smt9\\mll\\tubes-cnn\\src\\neuralnet\\ConvLayer.py:159\u001b[0m, in \u001b[0;36mConvLayer.backpropagate\u001b[1;34m(self, din, learn_rate)\u001b[0m\n\u001b[0;32m    157\u001b[0m         region, i, j \u001b[39m=\u001b[39m feat\n\u001b[0;32m    158\u001b[0m         \u001b[39mfor\u001b[39;00m f \u001b[39min\u001b[39;00m \u001b[39mrange\u001b[39m(\u001b[39mself\u001b[39m\u001b[39m.\u001b[39mnum_filters):\n\u001b[1;32m--> 159\u001b[0m             dout[f] \u001b[39m+\u001b[39m\u001b[39m=\u001b[39m din[i, j, f] \u001b[39m*\u001b[39m region\n\u001b[0;32m    161\u001b[0m \u001b[39mself\u001b[39m\u001b[39m.\u001b[39mfilter \u001b[39m-\u001b[39m\u001b[39m=\u001b[39m learn_rate \u001b[39m*\u001b[39m dout\n\u001b[0;32m    162\u001b[0m \u001b[39mreturn\u001b[39;00m dout\n",
      "\u001b[1;31mKeyboardInterrupt\u001b[0m: "
     ]
    }
   ],
   "source": [
    "trainer = Trainer(\n",
    "    model,\n",
    "    1,\n",
    "    0.1,\n",
    "    train.get_images(),\n",
    "    train.get_labels(),\n",
    "    test_input=test.get_images(),\n",
    "    test_label=test.get_labels(),\n",
    ")\n",
    "trainer.fit()"
   ]
  },
  {
   "cell_type": "code",
   "execution_count": null,
   "metadata": {},
   "outputs": [],
   "source": []
  }
 ],
 "metadata": {
  "kernelspec": {
   "display_name": "Python 3",
   "language": "python",
   "name": "python3"
  },
  "language_info": {
   "codemirror_mode": {
    "name": "ipython",
    "version": 3
   },
   "file_extension": ".py",
   "mimetype": "text/x-python",
   "name": "python",
   "nbconvert_exporter": "python",
   "pygments_lexer": "ipython3",
   "version": "3.8.0"
  }
 },
 "nbformat": 4,
 "nbformat_minor": 2
}
